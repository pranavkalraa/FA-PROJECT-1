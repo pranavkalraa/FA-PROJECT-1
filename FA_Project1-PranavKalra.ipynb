{
 "cells": [
  {
   "cell_type": "code",
   "execution_count": 1,
   "metadata": {},
   "outputs": [],
   "source": [
    "import tensorflow as tf\n",
    "import pandas as pd\n",
    "import numpy as np\n",
    "from tensorflow.keras.preprocessing.text import Tokenizer\n",
    "from tensorflow.keras.preprocessing.sequence import pad_sequences\n",
    "from sklearn.preprocessing import LabelEncoder\n",
    "from sklearn.model_selection import train_test_split\n",
    "import matplotlib.pyplot as plt\n",
    "import seaborn as sns\n",
    "import tensorflow_datasets as tfds"
   ]
  },
  {
   "cell_type": "code",
   "execution_count": 2,
   "metadata": {},
   "outputs": [
    {
     "name": "stdout",
     "output_type": "stream",
     "text": [
      "Positive reviews are 25000 and negative reviews are 25000 of total 50000 \n"
     ]
    },
    {
     "data": {
      "image/png": "[encoded data removed]",
      "text/plain": [
       "<Figure size 432x288 with 1 Axes>"
      ]
     },
     "metadata": {
      "needs_background": "light"
     },
     "output_type": "display_data"
    }
   ],
   "source": [
    "dataset = pd.read_csv(\"C:\\Users\\prana\\Desktop\\rotten_tomatoes_movies.csv\")\n",
    "negative = len(dataset[dataset['sentiment']=='positive'])\n",
    "positive = len(dataset) - negative\n",
    "sns.countplot(dataset['sentiment'])\n",
    "print('Positive reviews are {} and negative reviews are {} of total {} '.format(positive,negative,len(dataset)))"
   ]
  },
  {
   "cell_type": "code",
   "execution_count": 3,
   "metadata": {},
   "outputs": [],
   "source": [
    "le = LabelEncoder()\n",
    "training_reviews,testing_reviews,training_labels,testing_labels  = train_test_split(dataset['review'].values,dataset['sentiment'].values,test_size = 0.2)\n",
    "training_labels = le.fit_transform(training_labels)\n",
    "testing_labels = le.fit_transform(testing_labels)"
   ]
  },
  {
   "cell_type": "markdown",
   "metadata": {},
   "source": [
    "# Pre-Processing The Text\n"
   ]
  },
  {
   "cell_type": "code",
   "execution_count": 4,
   "metadata": {},
   "outputs": [
    {
     "name": "stdout",
     "output_type": "stream",
     "text": [
      "Total Unique Words : 112660\n"
     ]
    }
   ],
   "source": [
    "tokenizer = Tokenizer(num_words=10000,oov_token='<OOV>')\n",
    "tokenizer.fit_on_texts(training_reviews)\n",
    "word_index = tokenizer.word_index\n",
    "training_sequence = tokenizer.texts_to_sequences(training_reviews)\n",
    "testing_sequence = tokenizer.texts_to_sequences(testing_reviews)\n",
    "train_pad_sequence = pad_sequences(training_sequence,maxlen = 200,truncating= 'post',padding = 'pre')\n",
    "test_pad_sequence = pad_sequences(testing_sequence,maxlen = 200,truncating= 'post',padding = 'pre')\n",
    "print('Total Unique Words : {}'.format(len(word_index)))"
   ]
  },
  {
   "cell_type": "markdown",
   "metadata": {},
   "source": [
    "Using glove vectors for embedding"
   ]
  },
  {
   "cell_type": "code",
   "execution_count": 6,
   "metadata": {},
   "outputs": [],
   "source": [
    "embedding_matrix = np.zeros((len(word_index) + 1,200))\n",
    "for word, i in word_index.items():\n",
    "    embedding_vector = embedded_words.get(word)\n",
    "    if embedding_vector is not None:\n",
    "        embedding_matrix[i] = embedding_vector"
   ]
  },
  {
   "cell_type": "markdown",
   "metadata": {},
   "source": [
    "Creating The Model\n",
    "layer1: Embedding Layer using glove weights\n",
    "\n",
    "layer2: Using a Bidirectional LSTM\n",
    "\n",
    "layer3: A dropout Layer\n",
    "\n",
    "layer4: A Dense layer of 256 neurons with 'relu' activation\n",
    "\n",
    "layer5: A Dense Layer of 128 neurons with 'relu' activation\n",
    "\n",
    "layer6: Again a dropout layer.\n",
    "\n",
    "layer7: Sigmoid activation layer to classify it positive and negative."
   ]
  },
  {
   "cell_type": "code",
   "execution_count": 7,
   "metadata": {},
   "outputs": [],
   "source": [
    "model = tf.keras.Sequential([tf.keras.layers.Embedding(len(word_index) + 1,200,weights=[embedding_matrix],input_length=200,\n",
    "                            trainable=False),\n",
    "                             tf.keras.layers.Bidirectional(tf.keras.layers.LSTM(64)),\n",
    "                             tf.keras.layers.Dropout(0.5),\n",
    "                             tf.keras.layers.Dense(256,activation = 'relu',),\n",
    "                             tf.keras.layers.Dense(128,activation = 'relu'),\n",
    "                             tf.keras.layers.Dropout(0.5),\n",
    "                             tf.keras.layers.Dense(1,activation = tf.nn.sigmoid)])"
   ]
  },
  {
   "cell_type": "code",
   "execution_count": 8,
   "metadata": {},
   "outputs": [
    {
     "name": "stdout",
     "output_type": "stream",
     "text": [
      "Model: \"sequential\"\n",
      "_________________________________________________________________\n",
      "Layer (type)                 Output Shape              Param #   \n",
      "=================================================================\n",
      "embedding (Embedding)        (None, 200, 200)          22532200  \n",
      "_________________________________________________________________\n",
      "bidirectional (Bidirectional (None, 128)               135680    \n",
      "_________________________________________________________________\n",
      "dropout (Dropout)            (None, 128)               0         \n",
      "_________________________________________________________________\n",
      "dense (Dense)                (None, 256)               33024     \n",
      "_________________________________________________________________\n",
      "dense_1 (Dense)              (None, 128)               32896     \n",
      "_________________________________________________________________\n",
      "dropout_1 (Dropout)          (None, 128)               0         \n",
      "_________________________________________________________________\n",
      "dense_2 (Dense)              (None, 1)                 129       \n",
      "=================================================================\n",
      "Total params: 22,733,929\n",
      "Trainable params: 201,729\n",
      "Non-trainable params: 22,532,200\n",
      "_________________________________________________________________\n"
     ]
    }
   ],
   "source": [
    "model.summary()"
   ]
  },
  {
   "cell_type": "code",
   "execution_count": 9,
   "metadata": {},
   "outputs": [
    {
     "name": "stdout",
     "output_type": "stream",
     "text": [
      "Epoch 1/5\n",
      "1250/1250 [==============================] - 159s 122ms/step - loss: 0.6004 - accuracy: 0.6605 - val_loss: 0.3601 - val_accuracy: 0.8383\n",
      "Epoch 2/5\n",
      "1250/1250 [==============================] - 161s 128ms/step - loss: 0.3709 - accuracy: 0.8389 - val_loss: 0.3436 - val_accuracy: 0.8547\n",
      "Epoch 3/5\n",
      "1250/1250 [==============================] - 163s 130ms/step - loss: 0.3320 - accuracy: 0.8585 - val_loss: 0.3045 - val_accuracy: 0.8694\n",
      "Epoch 4/5\n",
      "1250/1250 [==============================] - 157s 126ms/step - loss: 0.3024 - accuracy: 0.8734 - val_loss: 0.3124 - val_accuracy: 0.8661\n",
      "Epoch 5/5\n",
      "1250/1250 [==============================] - 162s 129ms/step - loss: 0.2788 - accuracy: 0.8847 - val_loss: 0.3038 - val_accuracy: 0.8693\n"
     ]
    }
   ],
   "source": [
    "model.compile(loss = tf.keras.losses.BinaryCrossentropy() , optimizer='Adam' , metrics = 'accuracy')\n",
    "history = model.fit(train_pad_sequence,training_labels,epochs = 5 ,validation_data=(test_pad_sequence,testing_labels))"
   ]
  },
  {
   "cell_type": "markdown",
   "metadata": {},
   "source": [
    "Plotting Accuracy and Losses"
   ]
  },
  {
   "cell_type": "code",
   "execution_count": 11,
   "metadata": {},
   "outputs": [
    {
     "name": "stdout",
     "output_type": "stream",
     "text": [
      "Training Accuracy: 0.885450005531311\n",
      "Validation Accuracy: 0.8694000244140625\n"
     ]
    }
   ],
   "source": [
    "print('Training Accuracy: {}'.format(max(acc)))\n",
    "print('Validation Accuracy: {}'.format(max(val_acc)))"
   ]
  },
  {
   "cell_type": "markdown",
   "metadata": {},
   "source": [
    "Conclusion\n",
    "1 - We have great accuracy and we can increase it training for much longer and tune other hyperparameters\n",
    "2 - DNN LSTM have a deep impact on NLP problems and we can see that this model performs quite well."
   ]
  },
  {
   "cell_type": "code",
   "execution_count": null,
   "metadata": {},
   "outputs": [],
   "source": []
  }
 ],
 "metadata": {
  "kernelspec": {
   "display_name": "Python 3",
   "language": "python",
   "name": "python3"
  },
  "language_info": {
   "codemirror_mode": {
    "name": "ipython",
    "version": 3
   },
   "file_extension": ".py",
   "mimetype": "text/x-python",
   "name": "python",
   "nbconvert_exporter": "python",
   "pygments_lexer": "ipython3",
   "version": "3.8.8"
  }
 },
 "nbformat": 4,
 "nbformat_minor": 4
}
